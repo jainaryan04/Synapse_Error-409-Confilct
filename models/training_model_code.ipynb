{
 "cells": [
  {
   "cell_type": "code",
   "execution_count": 2,
   "id": "51bcea9b-7103-40d2-86ea-fdaa1d54e887",
   "metadata": {},
   "outputs": [
    {
     "name": "stdout",
     "output_type": "stream",
     "text": [
      "Requirement already satisfied: ultralytics in /Users/vishwajithp/anaconda3/envs/TensorFlow/lib/python3.11/site-packages (8.3.70)\n",
      "Requirement already satisfied: numpy<=2.1.1,>=1.23.0 in /Users/vishwajithp/anaconda3/envs/TensorFlow/lib/python3.11/site-packages (from ultralytics) (1.23.5)\n",
      "Requirement already satisfied: matplotlib>=3.3.0 in /Users/vishwajithp/anaconda3/envs/TensorFlow/lib/python3.11/site-packages (from ultralytics) (3.8.0)\n",
      "Requirement already satisfied: opencv-python>=4.6.0 in /Users/vishwajithp/anaconda3/envs/TensorFlow/lib/python3.11/site-packages (from ultralytics) (4.10.0.84)\n",
      "Requirement already satisfied: pillow>=7.1.2 in /Users/vishwajithp/anaconda3/envs/TensorFlow/lib/python3.11/site-packages (from ultralytics) (10.0.1)\n",
      "Requirement already satisfied: pyyaml>=5.3.1 in /Users/vishwajithp/anaconda3/envs/TensorFlow/lib/python3.11/site-packages (from ultralytics) (6.0.1)\n",
      "Requirement already satisfied: requests>=2.23.0 in /Users/vishwajithp/anaconda3/envs/TensorFlow/lib/python3.11/site-packages (from ultralytics) (2.31.0)\n",
      "Requirement already satisfied: scipy>=1.4.1 in /Users/vishwajithp/anaconda3/envs/TensorFlow/lib/python3.11/site-packages (from ultralytics) (1.10.0)\n",
      "Requirement already satisfied: torch>=1.8.0 in /Users/vishwajithp/anaconda3/envs/TensorFlow/lib/python3.11/site-packages (from ultralytics) (2.6.0)\n",
      "Requirement already satisfied: torchvision>=0.9.0 in /Users/vishwajithp/anaconda3/envs/TensorFlow/lib/python3.11/site-packages (from ultralytics) (0.21.0)\n",
      "Requirement already satisfied: tqdm>=4.64.0 in /Users/vishwajithp/anaconda3/envs/TensorFlow/lib/python3.11/site-packages (from ultralytics) (4.66.5)\n",
      "Requirement already satisfied: psutil in /Users/vishwajithp/anaconda3/envs/TensorFlow/lib/python3.11/site-packages (from ultralytics) (5.9.0)\n",
      "Requirement already satisfied: py-cpuinfo in /Users/vishwajithp/anaconda3/envs/TensorFlow/lib/python3.11/site-packages (from ultralytics) (9.0.0)\n",
      "Requirement already satisfied: pandas>=1.1.4 in /Users/vishwajithp/anaconda3/envs/TensorFlow/lib/python3.11/site-packages (from ultralytics) (2.1.4)\n",
      "Requirement already satisfied: seaborn>=0.11.0 in /Users/vishwajithp/anaconda3/envs/TensorFlow/lib/python3.11/site-packages (from ultralytics) (0.12.2)\n",
      "Requirement already satisfied: ultralytics-thop>=2.0.0 in /Users/vishwajithp/anaconda3/envs/TensorFlow/lib/python3.11/site-packages (from ultralytics) (2.0.14)\n",
      "Requirement already satisfied: contourpy>=1.0.1 in /Users/vishwajithp/anaconda3/envs/TensorFlow/lib/python3.11/site-packages (from matplotlib>=3.3.0->ultralytics) (1.2.0)\n",
      "Requirement already satisfied: cycler>=0.10 in /Users/vishwajithp/anaconda3/envs/TensorFlow/lib/python3.11/site-packages (from matplotlib>=3.3.0->ultralytics) (0.11.0)\n",
      "Requirement already satisfied: fonttools>=4.22.0 in /Users/vishwajithp/anaconda3/envs/TensorFlow/lib/python3.11/site-packages (from matplotlib>=3.3.0->ultralytics) (4.25.0)\n",
      "Requirement already satisfied: kiwisolver>=1.0.1 in /Users/vishwajithp/anaconda3/envs/TensorFlow/lib/python3.11/site-packages (from matplotlib>=3.3.0->ultralytics) (1.4.4)\n",
      "Requirement already satisfied: packaging>=20.0 in /Users/vishwajithp/anaconda3/envs/TensorFlow/lib/python3.11/site-packages (from matplotlib>=3.3.0->ultralytics) (23.1)\n",
      "Requirement already satisfied: pyparsing>=2.3.1 in /Users/vishwajithp/anaconda3/envs/TensorFlow/lib/python3.11/site-packages (from matplotlib>=3.3.0->ultralytics) (3.0.9)\n",
      "Requirement already satisfied: python-dateutil>=2.7 in /Users/vishwajithp/anaconda3/envs/TensorFlow/lib/python3.11/site-packages (from matplotlib>=3.3.0->ultralytics) (2.8.2)\n",
      "Requirement already satisfied: pytz>=2020.1 in /Users/vishwajithp/anaconda3/envs/TensorFlow/lib/python3.11/site-packages (from pandas>=1.1.4->ultralytics) (2023.3.post1)\n",
      "Requirement already satisfied: tzdata>=2022.1 in /Users/vishwajithp/anaconda3/envs/TensorFlow/lib/python3.11/site-packages (from pandas>=1.1.4->ultralytics) (2023.3)\n",
      "Requirement already satisfied: charset-normalizer<4,>=2 in /Users/vishwajithp/anaconda3/envs/TensorFlow/lib/python3.11/site-packages (from requests>=2.23.0->ultralytics) (2.0.4)\n",
      "Requirement already satisfied: idna<4,>=2.5 in /Users/vishwajithp/anaconda3/envs/TensorFlow/lib/python3.11/site-packages (from requests>=2.23.0->ultralytics) (3.4)\n",
      "Requirement already satisfied: urllib3<3,>=1.21.1 in /Users/vishwajithp/anaconda3/envs/TensorFlow/lib/python3.11/site-packages (from requests>=2.23.0->ultralytics) (1.26.18)\n",
      "Requirement already satisfied: certifi>=2017.4.17 in /Users/vishwajithp/anaconda3/envs/TensorFlow/lib/python3.11/site-packages (from requests>=2.23.0->ultralytics) (2024.2.2)\n",
      "Requirement already satisfied: filelock in /Users/vishwajithp/anaconda3/envs/TensorFlow/lib/python3.11/site-packages (from torch>=1.8.0->ultralytics) (3.17.0)\n",
      "Requirement already satisfied: typing-extensions>=4.10.0 in /Users/vishwajithp/anaconda3/envs/TensorFlow/lib/python3.11/site-packages (from torch>=1.8.0->ultralytics) (4.12.2)\n",
      "Requirement already satisfied: networkx in /Users/vishwajithp/anaconda3/envs/TensorFlow/lib/python3.11/site-packages (from torch>=1.8.0->ultralytics) (3.3)\n",
      "Requirement already satisfied: jinja2 in /Users/vishwajithp/anaconda3/envs/TensorFlow/lib/python3.11/site-packages (from torch>=1.8.0->ultralytics) (3.1.3)\n",
      "Requirement already satisfied: fsspec in /Users/vishwajithp/anaconda3/envs/TensorFlow/lib/python3.11/site-packages (from torch>=1.8.0->ultralytics) (2025.2.0)\n",
      "Requirement already satisfied: sympy==1.13.1 in /Users/vishwajithp/anaconda3/envs/TensorFlow/lib/python3.11/site-packages (from torch>=1.8.0->ultralytics) (1.13.1)\n",
      "Requirement already satisfied: mpmath<1.4,>=1.1.0 in /Users/vishwajithp/anaconda3/envs/TensorFlow/lib/python3.11/site-packages (from sympy==1.13.1->torch>=1.8.0->ultralytics) (1.3.0)\n",
      "Requirement already satisfied: six>=1.5 in /Users/vishwajithp/anaconda3/envs/TensorFlow/lib/python3.11/site-packages (from python-dateutil>=2.7->matplotlib>=3.3.0->ultralytics) (1.16.0)\n",
      "Requirement already satisfied: MarkupSafe>=2.0 in /Users/vishwajithp/anaconda3/envs/TensorFlow/lib/python3.11/site-packages (from jinja2->torch>=1.8.0->ultralytics) (2.1.3)\n",
      "Note: you may need to restart the kernel to use updated packages.\n"
     ]
    }
   ],
   "source": [
    "pip install ultralytics"
   ]
  },
  {
   "cell_type": "code",
   "execution_count": 3,
   "id": "5ae694d3-7775-4e1a-8dcc-4b3e4220fd18",
   "metadata": {},
   "outputs": [],
   "source": [
    "# Importing Libraries\n",
    "from ultralytics import YOLO\n",
    "import os\n",
    "import numpy as np\n",
    "import matplotlib.pyplot as plt\n",
    "import tensorflow as tf\n",
    "from IPython.display import Image,display\n",
    "from IPython import display"
   ]
  },
  {
   "cell_type": "code",
   "execution_count": 4,
   "id": "e19bffc4-4c9a-49fa-8eb5-6818539cd6a9",
   "metadata": {},
   "outputs": [
    {
     "name": "stdout",
     "output_type": "stream",
     "text": [
      "Ultralytics YOLOv8.2.25 🚀 Python-3.11.5 torch-2.3.0 CPU (Apple M2)\n",
      "Setup complete ✅ (8 CPUs, 8.0 GB RAM, 151.9/228.3 GB disk)\n",
      "\n",
      "OS                  macOS-15.2-arm64-arm-64bit\n",
      "Environment         Darwin\n",
      "Python              3.11.5\n",
      "Install             pip\n",
      "RAM                 8.00 GB\n",
      "CPU                 Apple M2\n",
      "CUDA                None\n",
      "\n",
      "matplotlib          ✅ 3.7.2>=3.3.0\n",
      "opencv-python       ✅ 4.9.0.80>=4.6.0\n",
      "pillow              ✅ 10.3.0>=7.1.2\n",
      "pyyaml              ✅ 6.0>=5.3.1\n",
      "requests            ✅ 2.31.0>=2.23.0\n",
      "scipy               ✅ 1.11.1>=1.4.1\n",
      "torch               ✅ 2.3.0>=1.8.0\n",
      "torchvision         ✅ 0.18.0>=0.9.0\n",
      "tqdm                ✅ 4.65.0>=4.64.0\n",
      "psutil              ✅ 5.9.0\n",
      "py-cpuinfo          ✅ 8.0.0\n",
      "thop                ✅ 0.1.1-2209072238>=0.1.1\n",
      "pandas              ✅ 2.0.3>=1.1.4\n",
      "seaborn             ✅ 0.13.2>=0.11.0\n",
      "\u001b[0m"
     ]
    }
   ],
   "source": [
    "!yolo checks #Checking environment for yolo model"
   ]
  },
  {
   "cell_type": "code",
   "execution_count": 7,
   "id": "cc176994-7131-41d3-b493-6bb13b233a2f",
   "metadata": {},
   "outputs": [
    {
     "name": "stdout",
     "output_type": "stream",
     "text": [
      "Requirement already satisfied: roboflow in /Users/vishwajithp/anaconda3/lib/python3.11/site-packages (1.1.53)\n",
      "Requirement already satisfied: certifi in /Users/vishwajithp/anaconda3/lib/python3.11/site-packages (from roboflow) (2024.6.2)\n",
      "Requirement already satisfied: idna==3.7 in /Users/vishwajithp/anaconda3/lib/python3.11/site-packages (from roboflow) (3.7)\n",
      "Requirement already satisfied: cycler in /Users/vishwajithp/anaconda3/lib/python3.11/site-packages (from roboflow) (0.11.0)\n",
      "Requirement already satisfied: kiwisolver>=1.3.1 in /Users/vishwajithp/anaconda3/lib/python3.11/site-packages (from roboflow) (1.4.4)\n",
      "Requirement already satisfied: matplotlib in /Users/vishwajithp/anaconda3/lib/python3.11/site-packages (from roboflow) (3.7.2)\n",
      "Requirement already satisfied: numpy>=1.18.5 in /Users/vishwajithp/anaconda3/lib/python3.11/site-packages (from roboflow) (1.26.4)\n",
      "Requirement already satisfied: opencv-python-headless==4.10.0.84 in /Users/vishwajithp/anaconda3/lib/python3.11/site-packages (from roboflow) (4.10.0.84)\n",
      "Requirement already satisfied: Pillow>=7.1.2 in /Users/vishwajithp/anaconda3/lib/python3.11/site-packages (from roboflow) (10.3.0)\n",
      "Requirement already satisfied: python-dateutil in /Users/vishwajithp/anaconda3/lib/python3.11/site-packages (from roboflow) (2.8.2)\n",
      "Requirement already satisfied: python-dotenv in /Users/vishwajithp/anaconda3/lib/python3.11/site-packages (from roboflow) (0.21.0)\n",
      "Requirement already satisfied: requests in /Users/vishwajithp/anaconda3/lib/python3.11/site-packages (from roboflow) (2.31.0)\n",
      "Requirement already satisfied: six in /Users/vishwajithp/anaconda3/lib/python3.11/site-packages (from roboflow) (1.16.0)\n",
      "Requirement already satisfied: urllib3>=1.26.6 in /Users/vishwajithp/anaconda3/lib/python3.11/site-packages (from roboflow) (1.26.18)\n",
      "Requirement already satisfied: tqdm>=4.41.0 in /Users/vishwajithp/anaconda3/lib/python3.11/site-packages (from roboflow) (4.65.0)\n",
      "Requirement already satisfied: PyYAML>=5.3.1 in /Users/vishwajithp/anaconda3/lib/python3.11/site-packages (from roboflow) (6.0)\n",
      "Requirement already satisfied: requests-toolbelt in /Users/vishwajithp/anaconda3/lib/python3.11/site-packages (from roboflow) (1.0.0)\n",
      "Requirement already satisfied: filetype in /Users/vishwajithp/anaconda3/lib/python3.11/site-packages (from roboflow) (1.2.0)\n",
      "Requirement already satisfied: contourpy>=1.0.1 in /Users/vishwajithp/anaconda3/lib/python3.11/site-packages (from matplotlib->roboflow) (1.0.5)\n",
      "Requirement already satisfied: fonttools>=4.22.0 in /Users/vishwajithp/anaconda3/lib/python3.11/site-packages (from matplotlib->roboflow) (4.25.0)\n",
      "Requirement already satisfied: packaging>=20.0 in /Users/vishwajithp/anaconda3/lib/python3.11/site-packages (from matplotlib->roboflow) (23.1)\n",
      "Requirement already satisfied: pyparsing<3.1,>=2.3.1 in /Users/vishwajithp/anaconda3/lib/python3.11/site-packages (from matplotlib->roboflow) (3.0.9)\n",
      "Requirement already satisfied: charset-normalizer<4,>=2 in /Users/vishwajithp/anaconda3/lib/python3.11/site-packages (from requests->roboflow) (2.0.4)\n",
      "loading Roboflow workspace...\n",
      "loading Roboflow project...\n"
     ]
    },
    {
     "name": "stderr",
     "output_type": "stream",
     "text": [
      "Downloading Dataset Version Zip in synapse-battlefield-detect-1 to yolov11:: 100"
     ]
    },
    {
     "name": "stdout",
     "output_type": "stream",
     "text": [
      "\n"
     ]
    },
    {
     "name": "stderr",
     "output_type": "stream",
     "text": [
      "\n",
      "Extracting Dataset Version Zip to synapse-battlefield-detect-1 in yolov11:: 100%\n"
     ]
    }
   ],
   "source": [
    "!pip install roboflow\n",
    "\n",
    "from roboflow import Roboflow\n",
    "rf = Roboflow(api_key=\"FgHQ6d9kL8ODAAhqBYEX\")\n",
    "project = rf.workspace(\"baggage-and-barcode\").project(\"synapse-battlefield-detect\")\n",
    "version = project.version(1)\n",
    "dataset = version.download(\"yolov11\")\n",
    "                "
   ]
  },
  {
   "cell_type": "code",
   "execution_count": 9,
   "id": "36e0af1a-67ec-49bb-a23f-6827601be39d",
   "metadata": {},
   "outputs": [
    {
     "name": "stdout",
     "output_type": "stream",
     "text": [
      "New https://pypi.org/project/ultralytics/8.3.70 available 😃 Update with 'pip install -U ultralytics'\n",
      "Ultralytics YOLOv8.2.25 🚀 Python-3.11.5 torch-2.3.0 CPU (Apple M2)\n",
      "\u001b[34m\u001b[1mengine/trainer: \u001b[0mtask=detect, mode=train, model=yolov8n.pt, data=/Users/vishwajithp/Synapse_Error-409-Confilct/models/synapse-battlefield-detect-1/data.yaml, epochs=20, time=None, patience=100, batch=16, imgsz=640, save=True, save_period=-1, cache=False, device=None, workers=8, project=None, name=train2, exist_ok=False, pretrained=True, optimizer=auto, verbose=True, seed=0, deterministic=True, single_cls=False, rect=False, cos_lr=False, close_mosaic=10, resume=False, amp=True, fraction=1.0, profile=False, freeze=None, multi_scale=False, overlap_mask=True, mask_ratio=4, dropout=0.0, val=True, split=val, save_json=False, save_hybrid=False, conf=None, iou=0.7, max_det=300, half=False, dnn=False, plots=True, source=None, vid_stride=1, stream_buffer=False, visualize=False, augment=False, agnostic_nms=False, classes=None, retina_masks=False, embed=None, show=False, save_frames=False, save_txt=False, save_conf=False, save_crop=False, show_labels=True, show_conf=True, show_boxes=True, line_width=None, format=torchscript, keras=False, optimize=False, int8=False, dynamic=False, simplify=False, opset=None, workspace=4, nms=False, lr0=0.01, lrf=0.01, momentum=0.937, weight_decay=0.0005, warmup_epochs=3.0, warmup_momentum=0.8, warmup_bias_lr=0.1, box=7.5, cls=0.5, dfl=1.5, pose=12.0, kobj=1.0, label_smoothing=0.0, nbs=64, hsv_h=0.015, hsv_s=0.7, hsv_v=0.4, degrees=0.0, translate=0.1, scale=0.5, shear=0.0, perspective=0.0, flipud=0.0, fliplr=0.5, bgr=0.0, mosaic=1.0, mixup=0.0, copy_paste=0.0, auto_augment=randaugment, erasing=0.4, crop_fraction=1.0, cfg=None, tracker=botsort.yaml, save_dir=runs/detect/train2\n",
      "Traceback (most recent call last):\n",
      "  File \"/Users/vishwajithp/anaconda3/lib/python3.11/site-packages/ultralytics/engine/trainer.py\", line 517, in get_dataset\n",
      "    data = check_det_dataset(self.args.data)\n",
      "           ^^^^^^^^^^^^^^^^^^^^^^^^^^^^^^^^^\n",
      "  File \"/Users/vishwajithp/anaconda3/lib/python3.11/site-packages/ultralytics/data/utils.py\", line 329, in check_det_dataset\n",
      "    raise FileNotFoundError(m)\n",
      "FileNotFoundError: \n",
      "Dataset '/Users/vishwajithp/Synapse_Error-409-Confilct/models/synapse-battlefield-detect-1/data.yaml' images not found ⚠️, missing path '/Users/vishwajithp/Synapse_Error-409-Confilct/models/synapse-battlefield-detect-1/valid/images'\n",
      "Note dataset download directory is '/Users/vishwajithp/AlgoHack/datasets'. You can update this in '/Users/vishwajithp/Library/Application Support/Ultralytics/settings.yaml'\n",
      "\n",
      "The above exception was the direct cause of the following exception:\n",
      "\n",
      "Traceback (most recent call last):\n",
      "  File \"/Users/vishwajithp/anaconda3/bin/yolo\", line 8, in <module>\n",
      "    sys.exit(entrypoint())\n",
      "             ^^^^^^^^^^^^\n",
      "  File \"/Users/vishwajithp/anaconda3/lib/python3.11/site-packages/ultralytics/cfg/__init__.py\", line 583, in entrypoint\n",
      "    getattr(model, mode)(**overrides)  # default args from model\n",
      "    ^^^^^^^^^^^^^^^^^^^^^^^^^^^^^^^^^\n",
      "  File \"/Users/vishwajithp/anaconda3/lib/python3.11/site-packages/ultralytics/engine/model.py\", line 655, in train\n",
      "    self.trainer = (trainer or self._smart_load(\"trainer\"))(overrides=args, _callbacks=self.callbacks)\n",
      "                   ^^^^^^^^^^^^^^^^^^^^^^^^^^^^^^^^^^^^^^^^^^^^^^^^^^^^^^^^^^^^^^^^^^^^^^^^^^^^^^^^^^^\n",
      "  File \"/Users/vishwajithp/anaconda3/lib/python3.11/site-packages/ultralytics/engine/trainer.py\", line 130, in __init__\n",
      "    self.trainset, self.testset = self.get_dataset()\n",
      "                                  ^^^^^^^^^^^^^^^^^^\n",
      "  File \"/Users/vishwajithp/anaconda3/lib/python3.11/site-packages/ultralytics/engine/trainer.py\", line 521, in get_dataset\n",
      "    raise RuntimeError(emojis(f\"Dataset '{clean_url(self.args.data)}' error ❌ {e}\")) from e\n",
      "RuntimeError: Dataset '/Users/vishwajithp/Synapse_Error-409-Confilct/models/synapse-battlefield-detect-1/data.yaml' error ❌ \n",
      "Dataset '/Users/vishwajithp/Synapse_Error-409-Confilct/models/synapse-battlefield-detect-1/data.yaml' images not found ⚠️, missing path '/Users/vishwajithp/Synapse_Error-409-Confilct/models/synapse-battlefield-detect-1/valid/images'\n",
      "Note dataset download directory is '/Users/vishwajithp/AlgoHack/datasets'. You can update this in '/Users/vishwajithp/Library/Application Support/Ultralytics/settings.yaml'\n",
      "Sentry is attempting to send 1 pending events\n",
      "Waiting up to 2 seconds\n",
      "Press Ctrl-C to quit\n",
      "\u001b[0m"
     ]
    }
   ],
   "source": [
    "!yolo task=detect mode=train data=/ epochs=20 imgsz=640"
   ]
  },
  {
   "cell_type": "code",
   "execution_count": null,
   "id": "eca868e8-3ce9-47e5-afe8-7b692b04bd77",
   "metadata": {},
   "outputs": [],
   "source": []
  }
 ],
 "metadata": {
  "kernelspec": {
   "display_name": "Python 3 (ipykernel)",
   "language": "python",
   "name": "python3"
  },
  "language_info": {
   "codemirror_mode": {
    "name": "ipython",
    "version": 3
   },
   "file_extension": ".py",
   "mimetype": "text/x-python",
   "name": "python",
   "nbconvert_exporter": "python",
   "pygments_lexer": "ipython3",
   "version": "3.11.5"
  }
 },
 "nbformat": 4,
 "nbformat_minor": 5
}
